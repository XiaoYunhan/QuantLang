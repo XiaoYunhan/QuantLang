{
 "cells": [
  {
   "cell_type": "code",
   "execution_count": null,
   "metadata": {},
   "outputs": [],
   "source": [
    "import nltk\n",
    "from nltk.tokenize import word_tokenize\n",
    "from nltk.tag import pos_tag\n",
    "import re\n",
    "\n",
    "# Ensure necessary resources are downloaded\n",
    "# nltk.download(\"punkt\")\n",
    "# nltk.download(\"averaged_perceptron_tagger\")\n",
    "\n",
    "nltk.download('punkt', download_dir='/Users/xiaoyunhan/nltk_data')\n",
    "nltk.download('averaged_perceptron_tagger', download_dir='/Users/xiaoyunhan/nltk_data')\n",
    "\n",
    "# Step 1: Tokenization\n",
    "def tokenize_sentence(sentence):\n",
    "    return word_tokenize(sentence)\n",
    "\n",
    "# Step 2: POS Tagging\n",
    "def pos_tagging(tokens):\n",
    "    return pos_tag(tokens)\n",
    "\n",
    "# Step 3: Custom Chunking Function\n",
    "def chunk_tokens(tokens):\n",
    "    chunked = []\n",
    "    i = 0\n",
    "    while i < len(tokens):\n",
    "        token = tokens[i]\n",
    "        if re.match(r\"\\d+%\", token):  # Match percentage\n",
    "            numeric_value = float(token.strip(\"%\")) / 100\n",
    "            if i + 1 < len(tokens):\n",
    "                chunked.append(f\"{numeric_value}*{tokens[i+1]}\")\n",
    "                i += 1  # Skip next token since it is already processed\n",
    "        elif token.lower() == \"hedge\" and i + 2 < len(tokens):\n",
    "            percentage = float(tokens[i+1].strip(\"%\")) / 100\n",
    "            if tokens[i+2].lower() == \"delta\":\n",
    "                function_call = f\"Delta(euro_call({tokens[i+3]}))\"\n",
    "                chunked.append(f\"hedge {percentage}*{function_call}\")\n",
    "                i += 3  # Skip \"Delta\", \"euro_call\", and the stock name\n",
    "        else:\n",
    "            chunked.append(token)\n",
    "        i += 1\n",
    "    return chunked\n",
    "\n",
    "# Step 4: Mapping to Mathematical Expression\n",
    "def map_to_expression(chunked_tokens):\n",
    "    portfolio = []\n",
    "    for token in chunked_tokens:\n",
    "        if \"hedge\" in token:\n",
    "            portfolio.append(f\"-{token.split(' ', 1)[1]}\")\n",
    "        else:\n",
    "            portfolio.append(token)\n",
    "    return \" + \".join(portfolio)\n",
    "\n",
    "# Test Case\n",
    "sentence = \"Build a portfolio with 50% AAPL and hedge 30% with Delta of a European call on TSLA\"\n",
    "\n",
    "# Processing Steps\n",
    "tokens = tokenize_sentence(sentence)\n",
    "pos_tags = pos_tagging(tokens)\n",
    "chunked_tokens = chunk_tokens(tokens)\n",
    "mapped_expression = map_to_expression(chunked_tokens)\n",
    "\n",
    "# Display Results\n",
    "tokens, pos_tags, chunked_tokens, mapped_expression\n"
   ]
  },
  {
   "cell_type": "code",
   "execution_count": null,
   "metadata": {},
   "outputs": [
    {
     "name": "stdout",
     "output_type": "stream",
     "text": [
      "['/Users/xiaoyunhan/nltk_data', '/Library/Developer/CommandLineTools/Library/Frameworks/Python3.framework/Versions/3.9/nltk_data', '/Library/Developer/CommandLineTools/Library/Frameworks/Python3.framework/Versions/3.9/share/nltk_data', '/Library/Developer/CommandLineTools/Library/Frameworks/Python3.framework/Versions/3.9/lib/nltk_data', '/usr/share/nltk_data', '/usr/local/share/nltk_data', '/usr/lib/nltk_data', '/usr/local/lib/nltk_data']\n"
     ]
    }
   ],
   "source": [
    "import nltk\n",
    "print(nltk.data.path)\n"
   ]
  }
 ],
 "metadata": {
  "kernelspec": {
   "display_name": "Python 3",
   "language": "python",
   "name": "python3"
  },
  "language_info": {
   "codemirror_mode": {
    "name": "ipython",
    "version": 3
   },
   "file_extension": ".py",
   "mimetype": "text/x-python",
   "name": "python",
   "nbconvert_exporter": "python",
   "pygments_lexer": "ipython3",
   "version": "3.9.6"
  }
 },
 "nbformat": 4,
 "nbformat_minor": 2
}
